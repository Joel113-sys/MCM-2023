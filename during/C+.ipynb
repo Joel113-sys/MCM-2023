{
  "cells": [
    {
      "cell_type": "code",
      "execution_count": 1,
      "metadata": {
        "id": "RjBmTwfKO9W5"
      },
      "outputs": [],
      "source": [
        "import numpy as np\n",
        "import pandas as pd\n",
        "import re"
      ]
    },
    {
      "cell_type": "code",
      "execution_count": 2,
      "metadata": {
        "id": "quRMZwvtPu42"
      },
      "outputs": [],
      "source": [
        "df = pd.read_excel(\"Problem_C_Data_Wordle_edited.xlsx\")"
      ]
    },
    {
      "cell_type": "code",
      "execution_count": 10,
      "metadata": {
        "colab": {
          "base_uri": "https://localhost:8080/"
        },
        "id": "o6puinGISJuU",
        "outputId": "2106cd9a-3de3-4ecf-bf37-ef0061c2cfae"
      },
      "outputs": [],
      "source": [
        "word_list = []\n",
        "word_list = df['Word']\n",
        "alpha_pos = [[0,0,0,0,0] for i in range(26)]\n",
        "alpha_list = ['a','b','c','d','e','f','g','h','i','j','k','l','m','n','o','p','q','r','s','t','u','v','w','x','y','z']\n",
        "#traverse the list\n",
        "for i in range(len(word_list)):\n",
        "  #traverse the strings\n",
        "  for j in range(len(word_list[i])):\n",
        "    for k in range(len(alpha_list)):\n",
        "      if word_list[i][j] == alpha_list[k]:\n",
        "        alpha_pos[k][j] += 1\n",
        "\n",
        "col_1 = [i[0] for i in alpha_pos]\n",
        "col_2 = [i[1] for i in alpha_pos]\n",
        "col_3 = [i[2] for i in alpha_pos]\n",
        "col_4 = [i[3] for i in alpha_pos]\n",
        "col_5 = [i[4] for i in alpha_pos]\n",
        "df2 = pd.DataFrame(alpha_pos)\n",
        "\n",
        "sum_freq = []\n",
        "for i in alpha_pos:\n",
        "  sum_freq.append(sum(i))\n",
        "sum_col = pd.DataFrame(sum_freq)\n",
        "\n",
        "df_lst = [pd.DataFrame(alpha_list), df2, sum_col]\n",
        "charpos = pd.concat(df_lst, axis = 1)"
      ]
    },
    {
      "cell_type": "code",
      "execution_count": 15,
      "metadata": {
        "id": "zn8Fc_Onvr6B"
      },
      "outputs": [],
      "source": [
        "words = df['Word']\n",
        "charnumber = np.zeros(len(words))\n",
        "count = 0\n",
        "for i in range(len(words)):\n",
        "    count = 0\n",
        "    word = words[i]\n",
        "    for j in range(5):\n",
        "        same = False\n",
        "        for k in range(j):\n",
        "            if word[k] == word[j]:\n",
        "                same = True\n",
        "                break\n",
        "        if not same:\n",
        "            count += 1\n",
        "    charnumber[i] = count"
      ]
    },
    {
      "cell_type": "code",
      "execution_count": 20,
      "metadata": {
        "colab": {
          "base_uri": "https://localhost:8080/"
        },
        "id": "1V-U2UJswORO",
        "outputId": "aa1f43c1-dd86-46b6-dd31-474eafbfb5b7"
      },
      "outputs": [],
      "source": [
        "words=df.Word\n",
        "charcombo = np.zeros((26, 26))\n",
        "for i in range(len(words)):\n",
        "    for j in range(4):\n",
        "        a = ord(words[i][j]) - ord(\"a\")\n",
        "        b = ord(words[i][j + 1]) - ord(\"a\")\n",
        "        charcombo[a][b] += 1\n"
      ]
    },
    {
      "cell_type": "code",
      "execution_count": 21,
      "metadata": {
        "id": "h6F5qmXxxNtl"
      },
      "outputs": [],
      "source": [
        "def getfeature(word):\n",
        "    # charnumber\n",
        "    f1 = 0\n",
        "    for j in range(5):\n",
        "        same = False\n",
        "        for k in range(j):\n",
        "            if word[k] == word[j]:\n",
        "                same = True\n",
        "                break\n",
        "        if not same:\n",
        "            f1 += 1\n",
        "\n",
        "    # charfeq\n",
        "    f2 = 0\n",
        "    for i in range(5):\n",
        "        f2 += charpos[ord(word[i])][6]\n",
        "\n",
        "    # charpos\n",
        "    f3 = 0\n",
        "    for i in range(5):\n",
        "        f3 += charpos[ord(word[i])][i]\n",
        "\n",
        "    # charcombo\n",
        "    f4 = 0\n",
        "    for i in range(4):\n",
        "        a = ord(word[i]) - ord(\"a\")\n",
        "        b = ord(word[i + 1]) - ord(\"a\")\n",
        "        f4+=charcombo[a][b]\n",
        "\n",
        "    return [f1,f2,f3,f4]\n"
      ]
    }
  ],
  "metadata": {
    "colab": {
      "provenance": []
    },
    "kernelspec": {
      "display_name": "MCM",
      "language": "python",
      "name": "python3"
    },
    "language_info": {
      "codemirror_mode": {
        "name": "ipython",
        "version": 3
      },
      "file_extension": ".py",
      "mimetype": "text/x-python",
      "name": "python",
      "nbconvert_exporter": "python",
      "pygments_lexer": "ipython3",
      "version": "3.9.16"
    },
    "vscode": {
      "interpreter": {
        "hash": "70aeaa0bd624b5c35454921e6531cc9148aab9ca9deafc1d5cb72d8199fcb847"
      }
    }
  },
  "nbformat": 4,
  "nbformat_minor": 0
}
