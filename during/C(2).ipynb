{
  "cells": [
    {
      "cell_type": "code",
      "execution_count": 101,
      "metadata": {
        "id": "RjBmTwfKO9W5"
      },
      "outputs": [],
      "source": [
        "import numpy as np\n",
        "import pandas as pd\n",
        "import re\n",
        "import math\n",
        "from collections import Counter\n",
        "import nltk\n",
        "from statsmodels.tsa.stattools import adfuller\n",
        "from statsmodels.tsa.arima.model import ARIMA\n",
        "import matplotlib.pyplot as plt"
      ]
    },
    {
      "cell_type": "code",
      "source": [
        "from google.colab import drive\n",
        "drive.mount('/content/drive')"
      ],
      "metadata": {
        "colab": {
          "base_uri": "https://localhost:8080/"
        },
        "id": "iw6LL8Aa7VXB",
        "outputId": "8d02f244-711f-4866-82a7-9d9bace28dbe"
      },
      "execution_count": 2,
      "outputs": [
        {
          "output_type": "stream",
          "name": "stdout",
          "text": [
            "Mounted at /content/drive\n"
          ]
        }
      ]
    },
    {
      "cell_type": "code",
      "execution_count": 3,
      "metadata": {
        "id": "quRMZwvtPu42"
      },
      "outputs": [],
      "source": [
        "df = pd.read_excel(\"/content/drive/MyDrive/Colab Notebooks/MCM/Problem_C_Data_Wordle_updated.xlsx\")"
      ]
    },
    {
      "cell_type": "code",
      "source": [
        "df['Number of  reported results']"
      ],
      "metadata": {
        "colab": {
          "base_uri": "https://localhost:8080/"
        },
        "id": "w-5sEg1eXdYA",
        "outputId": "4a4fb3b8-7cad-4462-d6a8-d34b4f9cb463"
      },
      "execution_count": 99,
      "outputs": [
        {
          "output_type": "execute_result",
          "data": {
            "text/plain": [
              "0       20380\n",
              "1       21204\n",
              "2       20001\n",
              "3       20160\n",
              "4       20879\n",
              "        ...  \n",
              "354    153880\n",
              "355    107134\n",
              "356     91477\n",
              "357    101503\n",
              "358     80630\n",
              "Name: Number of  reported results, Length: 359, dtype: int64"
            ]
          },
          "metadata": {},
          "execution_count": 99
        }
      ]
    },
    {
      "cell_type": "code",
      "source": [
        "df2 = pd.read_excel(\"/content/drive/MyDrive/Colab Notebooks/MCM/regression_version.xlsx\")\n",
        "df2.iloc[5,]"
      ],
      "metadata": {
        "colab": {
          "base_uri": "https://localhost:8080/"
        },
        "id": "VyjZ_on2BIS5",
        "outputId": "25710d97-1378-4b31-97b6-7f5ef89aab1f"
      },
      "execution_count": 65,
      "outputs": [
        {
          "output_type": "execute_result",
          "data": {
            "text/plain": [
              "Date                           2022-12-26 00:00:00\n",
              "Contest number                                 555\n",
              "Word                                         judge\n",
              "Number of  reported results                  20011\n",
              "Number in hard mode                           2043\n",
              "1 try                                            0\n",
              "2 tries                                          2\n",
              "3 tries                                          8\n",
              "4 tries                                         16\n",
              "5 tries                                         26\n",
              "6 tries                                         33\n",
              "7 or more tries (X)                             14\n",
              "Sum                                             99\n",
              "Average Score                             5.232323\n",
              "Length                                           5\n",
              "Hard Mode Percent                         0.102094\n",
              "Name: 5, dtype: object"
            ]
          },
          "metadata": {},
          "execution_count": 65
        }
      ]
    },
    {
      "cell_type": "code",
      "source": [],
      "metadata": {
        "id": "jWGb4ff3BgrU"
      },
      "execution_count": null,
      "outputs": []
    },
    {
      "cell_type": "code",
      "execution_count": null,
      "metadata": {
        "id": "o6puinGISJuU"
      },
      "outputs": [],
      "source": [
        "# word_list = []\n",
        "# word_list = df['Word']\n",
        "# alpha_pos = [[0,0,0,0,0] for i in range(26)]\n",
        "# alpha_list = ['a','b','c','d','e','f','g','h','i','j','k','l','m','n','o','p','q','r','s','t','u','v','w','x','y','z']\n",
        "# #traverse the list\n",
        "# for i in range(len(word_list)):\n",
        "#   #traverse the strings\n",
        "#   for j in range(len(word_list[i])):\n",
        "#     for k in range(len(alpha_list)):\n",
        "#       if word_list[i][j] == alpha_list[k]:\n",
        "#         alpha_pos[k][j] += 1\n",
        "\n",
        "# col_1 = [i[0] for i in alpha_pos]\n",
        "# col_2 = [i[1] for i in alpha_pos]\n",
        "# col_3 = [i[2] for i in alpha_pos]\n",
        "# col_4 = [i[3] for i in alpha_pos]\n",
        "# col_5 = [i[4] for i in alpha_pos]\n",
        "# df2 = pd.DataFrame(alpha_pos)\n",
        "\n",
        "# sum_freq = []\n",
        "# for i in alpha_pos:\n",
        "#   sum_freq.append(sum(i))\n",
        "# sum_col = pd.DataFrame(sum_freq)\n",
        "\n",
        "# df_lst = [pd.DataFrame(alpha_list), df2, sum_col]\n",
        "# charpos = pd.concat(df_lst, axis = 1)"
      ]
    },
    {
      "cell_type": "code",
      "source": [
        "file = open(\"/content/drive/MyDrive/Colab Notebooks/MCM/untitled.txt\")\n",
        "#words = file.read().split()\n",
        "words = df.Word\n",
        "CZERO = ord('a')"
      ],
      "metadata": {
        "id": "ufgDkUUqcT6t"
      },
      "execution_count": 78,
      "outputs": []
    },
    {
      "cell_type": "code",
      "source": [
        "charpos=np.zeros((26,6))\n",
        "#traverse the list\n",
        "for i in range(len(words)):\n",
        "    #traverse the strings\n",
        "    for j in range(5):\n",
        "       charpos[ord(words[i][j])-CZERO][j]+=1\n",
        "       charpos[ord(words[i][j])-CZERO][5]+=1"
      ],
      "metadata": {
        "id": "RHqWoi_McPrv"
      },
      "execution_count": 5,
      "outputs": []
    },
    {
      "cell_type": "code",
      "execution_count": 6,
      "metadata": {
        "id": "zn8Fc_Onvr6B"
      },
      "outputs": [],
      "source": [
        "charnumber = np.zeros(len(words))\n",
        "count = 0\n",
        "for i in range(len(words)):\n",
        "    count = 0\n",
        "    word = words[i]\n",
        "    for j in range(5):\n",
        "        same = False\n",
        "        for k in range(j):\n",
        "            if word[k] == word[j]:\n",
        "                same = True\n",
        "                break\n",
        "        if not same:\n",
        "            count += 1\n",
        "    charnumber[i] = count"
      ]
    },
    {
      "cell_type": "code",
      "source": [
        "charcombo = np.zeros((26, 26))\n",
        "for i in range(len(words)):\n",
        "    for j in range(4):\n",
        "        a = ord(words[i][j]) - ord(\"a\")\n",
        "        b = ord(words[i][j + 1]) - ord(\"a\")\n",
        "        charcombo[a][b] += 1"
      ],
      "metadata": {
        "id": "RTME8_fdcgmk"
      },
      "execution_count": 7,
      "outputs": []
    },
    {
      "cell_type": "code",
      "source": [
        "vowel_list = ['a','e','i','o','u']\n",
        "total_vowel = 0\n",
        "for i in words:\n",
        "  for j in i:\n",
        "    if j in vowel_list:\n",
        "      total_vowel += 1\n",
        "total_vowel"
      ],
      "metadata": {
        "colab": {
          "base_uri": "https://localhost:8080/"
        },
        "id": "hW8CtrXkaYEI",
        "outputId": "52c6b444-659b-43cf-a851-1216970d91bf"
      },
      "execution_count": 8,
      "outputs": [
        {
          "output_type": "execute_result",
          "data": {
            "text/plain": [
              "4097"
            ]
          },
          "metadata": {},
          "execution_count": 8
        }
      ]
    },
    {
      "cell_type": "code",
      "source": [
        "# charpos.columns = [\"alpha\", \"pos1\", \"pos2\", \"pos3\", \"pos4\", \"pos5\", \"sum\"]\n",
        "# charpos"
      ],
      "metadata": {
        "id": "a7Om5I11AyrF"
      },
      "execution_count": null,
      "outputs": []
    },
    {
      "cell_type": "code",
      "source": [
        "charpos"
      ],
      "metadata": {
        "colab": {
          "base_uri": "https://localhost:8080/"
        },
        "id": "CNlGT4jJd37P",
        "outputId": "b8bfa417-acc1-44e8-a1f3-a873cc91e42a"
      },
      "execution_count": 9,
      "outputs": [
        {
          "output_type": "execute_result",
          "data": {
            "text/plain": [
              "array([[1.410e+02, 3.030e+02, 3.060e+02, 1.620e+02, 6.300e+01, 9.750e+02],\n",
              "       [1.730e+02, 1.600e+01, 5.600e+01, 2.400e+01, 1.100e+01, 2.800e+02],\n",
              "       [1.980e+02, 4.000e+01, 5.600e+01, 1.500e+02, 3.100e+01, 4.750e+02],\n",
              "       [1.110e+02, 2.100e+01, 7.500e+01, 7.000e+01, 1.180e+02, 3.950e+02],\n",
              "       [7.200e+01, 2.420e+02, 1.770e+02, 3.190e+02, 4.210e+02, 1.231e+03],\n",
              "       [1.340e+02, 8.000e+00, 2.500e+01, 3.500e+01, 2.600e+01, 2.280e+02],\n",
              "       [1.150e+02, 1.100e+01, 6.700e+01, 7.600e+01, 4.100e+01, 3.100e+02],\n",
              "       [6.900e+01, 1.440e+02, 9.000e+00, 2.800e+01, 1.370e+02, 3.870e+02],\n",
              "       [3.400e+01, 2.010e+02, 2.670e+02, 1.580e+02, 1.100e+01, 6.710e+02],\n",
              "       [2.000e+01, 2.000e+00, 3.000e+00, 2.000e+00, 0.000e+00, 2.700e+01],\n",
              "       [2.000e+01, 1.000e+01, 1.200e+01, 5.500e+01, 1.130e+02, 2.100e+02],\n",
              "       [8.700e+01, 2.000e+02, 1.110e+02, 1.620e+02, 1.550e+02, 7.150e+02],\n",
              "       [1.080e+02, 3.800e+01, 6.100e+01, 6.800e+01, 4.200e+01, 3.170e+02],\n",
              "       [3.700e+01, 8.700e+01, 1.380e+02, 1.820e+02, 1.300e+02, 5.740e+02],\n",
              "       [4.100e+01, 2.790e+02, 2.430e+02, 1.320e+02, 5.800e+01, 7.530e+02],\n",
              "       [1.410e+02, 6.100e+01, 5.700e+01, 5.000e+01, 5.600e+01, 3.650e+02],\n",
              "       [2.300e+01, 5.000e+00, 1.000e+00, 0.000e+00, 0.000e+00, 2.900e+01],\n",
              "       [1.050e+02, 2.670e+02, 1.630e+02, 1.500e+02, 2.120e+02, 8.970e+02],\n",
              "       [3.650e+02, 1.600e+01, 8.000e+01, 1.700e+02, 3.700e+01, 6.680e+02],\n",
              "       [1.490e+02, 7.700e+01, 1.110e+02, 1.390e+02, 2.530e+02, 7.290e+02],\n",
              "       [3.300e+01, 1.850e+02, 1.650e+02, 8.200e+01, 2.000e+00, 4.670e+02],\n",
              "       [4.300e+01, 1.500e+01, 4.900e+01, 4.500e+01, 0.000e+00, 1.520e+02],\n",
              "       [8.200e+01, 4.400e+01, 2.600e+01, 2.500e+01, 1.700e+01, 1.940e+02],\n",
              "       [0.000e+00, 1.400e+01, 1.200e+01, 3.000e+00, 8.000e+00, 3.700e+01],\n",
              "       [6.000e+00, 2.200e+01, 2.900e+01, 3.000e+00, 3.640e+02, 4.240e+02],\n",
              "       [3.000e+00, 2.000e+00, 1.100e+01, 2.000e+01, 4.000e+00, 4.000e+01]])"
            ]
          },
          "metadata": {},
          "execution_count": 9
        }
      ]
    },
    {
      "cell_type": "code",
      "source": [
        "charnumber"
      ],
      "metadata": {
        "colab": {
          "base_uri": "https://localhost:8080/"
        },
        "id": "GIX4z7EW98qA",
        "outputId": "3b56091b-6d7c-4e87-a5fa-77d732392892"
      },
      "execution_count": 10,
      "outputs": [
        {
          "output_type": "execute_result",
          "data": {
            "text/plain": [
              "array([4., 3., 4., ..., 5., 5., 5.])"
            ]
          },
          "metadata": {},
          "execution_count": 10
        }
      ]
    },
    {
      "cell_type": "code",
      "source": [
        "charcombo"
      ],
      "metadata": {
        "colab": {
          "base_uri": "https://localhost:8080/"
        },
        "id": "_tBx_DY89-xA",
        "outputId": "01a2d300-5152-4ec7-e67d-df966aef5f07"
      },
      "execution_count": 11,
      "outputs": [
        {
          "output_type": "execute_result",
          "data": {
            "text/plain": [
              "array([[  0.,  29.,  52.,  50.,   1.,  18.,  25.,   2.,  47.,   2.,  30.,\n",
              "        114.,  43.,  93.,   3.,  35.,   0., 107.,  71.,  68.,  27.,  30.,\n",
              "         22.,   7.,  23.,  13.],\n",
              "       [ 35.,   8.,   0.,   0.,  44.,   0.,   0.,   1.,  25.,   0.,   0.,\n",
              "         40.,   0.,   0.,  39.,   0.,   0.,  39.,   0.,   1.,  27.,   0.,\n",
              "          0.,   0.,  10.,   0.],\n",
              "       [ 54.,   0.,   2.,   0.,  44.,   0.,   0., 103.,  11.,   0.,  54.,\n",
              "         34.,   0.,   0.,  46.,   0.,   0.,  55.,   0.,  13.,  20.,   0.,\n",
              "          0.,   0.,   8.,   0.],\n",
              "       [ 20.,   0.,   0.,  13.,  78.,   0.,  14.,   0.,  30.,   0.,   1.,\n",
              "          7.,   2.,   0.,  25.,   0.,   0.,  30.,   2.,   1.,  11.,   0.,\n",
              "          3.,   0.,  40.,   0.],\n",
              "       [ 89.,  11.,  24.,  40.,  59.,  13.,  15.,   1.,  14.,   1.,   5.,\n",
              "         84.,  22.,  77.,   3.,  24.,   2., 189.,  26.,  53.,   4.,  16.,\n",
              "         11.,  12.,  14.,   1.],\n",
              "       [ 14.,   0.,   0.,   0.,  26.,  20.,   0.,   0.,  27.,   1.,   0.,\n",
              "         37.,   0.,   0.,  19.,   0.,   0.,  21.,   0.,  17.,  11.,   0.,\n",
              "          0.,   0.,   9.,   0.],\n",
              "       [ 31.,   1.,   0.,   0.,  54.,   0.,   6.,  21.,  17.,   0.,   0.,\n",
              "         21.,   4.,   6.,  28.,   0.,   0.,  41.,   1.,   0.,  25.,   0.,\n",
              "          0.,   0.,  13.,   0.],\n",
              "       [ 59.,   0.,   0.,   0.,  49.,   0.,   0.,   0.,  39.,   0.,   0.,\n",
              "          0.,   0.,   0.,  49.,   0.,   0.,   8.,   0.,  11.,  21.,   0.,\n",
              "          0.,   0.,  14.,   0.],\n",
              "       [ 16.,   8.,  60.,  55.,  39.,  17.,  28.,   0.,   1.,   0.,   5.,\n",
              "         66.,  28., 129.,  19.,  16.,   1.,  40.,  42.,  55.,   1.,  19.,\n",
              "          0.,   9.,   0.,   6.],\n",
              "       [  4.,   0.,   0.,   0.,   5.,   0.,   0.,   0.,   1.,   0.,   0.,\n",
              "          0.,   0.,   0.,   9.,   0.,   0.,   0.,   0.,   0.,   8.,   0.,\n",
              "          0.,   0.,   0.,   0.],\n",
              "       [  7.,   0.,   0.,   0.,  31.,   0.,   0.,   1.,  10.,   0.,   0.,\n",
              "          1.,   0.,  10.,   2.,   0.,   0.,   1.,   0.,   0.,   3.,   0.,\n",
              "          0.,   0.,  31.,   0.],\n",
              "       [ 85.,   2.,   5.,  16.,  94.,   2.,   3.,   0.,  59.,   0.,   9.,\n",
              "         59.,   5.,   0.,  77.,   5.,   0.,   0.,   4.,  24.,  42.,   6.,\n",
              "          0.,   0.,  63.,   0.],\n",
              "       [ 57.,  16.,   1.,   0.,  54.,   1.,   0.,   0.,  32.,   0.,   0.,\n",
              "          1.,   8.,   0.,  41.,  32.,   0.,   0.,   0.,   0.,  18.,   0.,\n",
              "          0.,   0.,  14.,   0.],\n",
              "       [ 34.,   1.,  26.,  35.,  63.,   3.,  62.,   0.,  29.,   3.,  34.,\n",
              "          4.,   1.,  14.,  32.,   1.,   0.,   1.,   8.,  52.,  11.,   2.,\n",
              "          1.,   0.,  26.,   1.],\n",
              "       [ 23.,  15.,  25.,  25.,   4.,  10.,   9.,   0.,  21.,   0.,  17.,\n",
              "         34.,  25.,  74.,  58.,  24.,   0.,  98.,  31.,  42.,  67.,  26.,\n",
              "         43.,   8.,  10.,   6.],\n",
              "       [ 37.,   0.,   0.,   0.,  58.,   0.,   0.,  13.,  41.,   0.,   0.,\n",
              "         28.,   0.,   1.,  32.,  11.,   0.,  30.,   7.,  14.,  20.,   0.,\n",
              "          0.,   0.,  17.,   0.],\n",
              "       [  0.,   0.,   0.,   0.,   0.,   0.,   0.,   0.,   0.,   0.,   0.,\n",
              "          0.,   0.,   0.,   0.,   0.,   0.,   0.,   0.,   0.,  29.,   0.,\n",
              "          0.,   0.,   0.,   0.],\n",
              "       [114.,   6.,  10.,  21., 113.,   3.,  13.,   3.,  83.,   0.,  13.,\n",
              "         11.,   8.,  17., 100.,   6.,   0.,  18.,  16.,  36.,  49.,   7.,\n",
              "          0.,   0.,  38.,   0.],\n",
              "       [ 30.,   0.,  31.,   0.,  80.,   0.,   0.,  86.,  24.,   0.,  20.,\n",
              "         29.,  18.,  18.,  22.,  50.,   3.,   0.,  36., 123.,  17.,   0.,\n",
              "         23.,   0.,  21.,   0.],\n",
              "       [ 59.,   0.,  19.,   1.,  88.,   0.,   1.,  69.,  32.,   0.,   0.,\n",
              "          3.,   0.,   0.,  53.,   0.,   0.,  48.,   2.,  21.,  19.,   0.,\n",
              "          9.,   0.,  49.,   3.],\n",
              "       [ 15.,   8.,  20.,  22.,  28.,   6.,  18.,   0.,  23.,   0.,   1.,\n",
              "         34.,  40.,  79.,   3.,  14.,   0.,  49.,  55.,  44.,   0.,   2.,\n",
              "          0.,   1.,   1.,   2.],\n",
              "       [ 18.,   0.,   0.,   0.,  78.,   0.,   0.,   0.,  27.,   0.,   0.,\n",
              "          0.,   0.,   0.,  21.,   0.,   0.,   0.,   0.,   0.,   1.,   1.,\n",
              "          0.,   0.,   6.,   0.],\n",
              "       [ 25.,   0.,   0.,   5.,  35.,   1.,   0.,  18.,  27.,   0.,   1.,\n",
              "         10.,   0.,  17.,  22.,   0.,   0.,  13.,   0.,   0.,   1.,   0.,\n",
              "          0.,   0.,   2.,   0.],\n",
              "       [  2.,   0.,   1.,   0.,   6.,   0.,   0.,   0.,  10.,   0.,   0.,\n",
              "          0.,   0.,   0.,   1.,   1.,   0.,   0.,   0.,   5.,   1.,   0.,\n",
              "          0.,   0.,   2.,   0.],\n",
              "       [  4.,   2.,   1.,   1.,  11.,   0.,   1.,   0.,   6.,   0.,   0.,\n",
              "         11.,   5.,   2.,   5.,   5.,   0.,   4.,   2.,   0.,   0.,   0.,\n",
              "          0.,   0.,   0.,   0.],\n",
              "       [  2.,   0.,   0.,   0.,  17.,   0.,   0.,   0.,   1.,   0.,   0.,\n",
              "          0.,   0.,   0.,   3.,   0.,   0.,   0.,   0.,   0.,   1.,   0.,\n",
              "          0.,   0.,   7.,   5.]])"
            ]
          },
          "metadata": {},
          "execution_count": 11
        }
      ]
    },
    {
      "cell_type": "code",
      "execution_count": null,
      "metadata": {
        "id": "h6F5qmXxxNtl"
      },
      "outputs": [],
      "source": [
        "# def getfeature(word):\n",
        "#     # charnumber\n",
        "#     f1 = 0\n",
        "#     for j in range(5):\n",
        "#         same = False\n",
        "#         for k in range(j):\n",
        "#             if word[k] == word[j]:\n",
        "#                 same = True\n",
        "#                 break\n",
        "#         if not same:\n",
        "#             f1 += 1\n",
        "\n",
        "#     # charfeq\n",
        "#     f2 = 0\n",
        "#     for i in range(5):\n",
        "#         f2 += charpos[ord(word[i])][6]\n",
        "\n",
        "#     # charpos\n",
        "#     f3 = 0\n",
        "#     for i in range(5):\n",
        "#         f3 += charpos[ord(word[i])][i]\n",
        "\n",
        "#     # charcombo\n",
        "#     f4 = 0\n",
        "#     for i in range(4):\n",
        "#         a = ord(word[i]) - ord(\"a\")\n",
        "#         b = ord(word[i + 1]) - ord(\"a\")\n",
        "#         f4+=charcombo[a][b]\n",
        "\n",
        "#     return [f1,f2,f3,f4]"
      ]
    },
    {
      "cell_type": "code",
      "source": [
        "def getfeature(word):\n",
        "    # charnumber\n",
        "    f1 = 0\n",
        "    for j in range(5):\n",
        "        same = False\n",
        "        for k in range(j):\n",
        "            if word[k] == word[j]:\n",
        "                same = True\n",
        "                break\n",
        "        if not same:\n",
        "            f1 += 1\n",
        "    charnumber_counter = Counter(charnumber)\n",
        "    f1 = charnumber_counter[f1] / len(charnumber)\n",
        "\n",
        "    # charfeq\n",
        "    f2 = 0\n",
        "    for i in range(5):\n",
        "        f2 += charpos[ord(word[i]) - ord(\"a\")][5]\n",
        "    f2 /= np.sum(charpos[:, -1])\n",
        "\n",
        "    # charpos\n",
        "    f3 = 0\n",
        "    for i in range(5):\n",
        "        f3 += charpos[ord(word[i]) - ord(\"a\")][i]\n",
        "    f3 /= (np.sum(charpos[:, 0]) * 5)\n",
        "\n",
        "    # charcombo\n",
        "    f4 = 0\n",
        "    for i in range(4):\n",
        "        a = ord(word[i]) - ord(\"a\")\n",
        "        b = ord(word[i + 1]) - ord(\"a\")\n",
        "        f4 += charcombo[a][b]\n",
        "    f4 /= np.sum(charcombo)\n",
        "\n",
        "    return [f1,f2,f3,f4]"
      ],
      "metadata": {
        "id": "5FMpWiri-TkI"
      },
      "execution_count": 41,
      "outputs": []
    },
    {
      "cell_type": "code",
      "source": [
        "featureList = []\n",
        "for word in words:\n",
        "    featureList.append(getfeature(word))\n",
        "len(featureList)"
      ],
      "metadata": {
        "colab": {
          "base_uri": "https://localhost:8080/"
        },
        "id": "7bJ6AIBZ8Rff",
        "outputId": "1f858e5d-f046-4894-88c4-c899d609c046"
      },
      "execution_count": 42,
      "outputs": [
        {
          "output_type": "execute_result",
          "data": {
            "text/plain": [
              "359"
            ]
          },
          "metadata": {},
          "execution_count": 42
        }
      ]
    },
    {
      "cell_type": "code",
      "source": [
        "f1_coef = 0\n",
        "for k, v in Counter(charnumber).items():\n",
        "    p = v / np.sum(charnumber)\n",
        "    f1_coef -= p * np.log2(p)\n",
        "f1_coef"
      ],
      "metadata": {
        "colab": {
          "base_uri": "https://localhost:8080/"
        },
        "id": "6A6hd6LyCkTe",
        "outputId": "e7183263-319b-4151-92bf-4bf4c462d535"
      },
      "execution_count": 13,
      "outputs": [
        {
          "output_type": "execute_result",
          "data": {
            "text/plain": [
              "0.7000715075677838"
            ]
          },
          "metadata": {},
          "execution_count": 13
        }
      ]
    },
    {
      "cell_type": "code",
      "source": [
        "f2_coef = 0\n",
        "freq = charpos[:, -1] / np.sum(charpos[:, -1])\n",
        "for p in freq:\n",
        "    f2_coef -= p * np.log2(p)\n",
        "f2_coef"
      ],
      "metadata": {
        "colab": {
          "base_uri": "https://localhost:8080/"
        },
        "id": "2cDBT97NB9I5",
        "outputId": "59989292-f50e-4973-862e-38ce625097a0"
      },
      "execution_count": 14,
      "outputs": [
        {
          "output_type": "execute_result",
          "data": {
            "text/plain": [
              "4.3273895621070295"
            ]
          },
          "metadata": {},
          "execution_count": 14
        }
      ]
    },
    {
      "cell_type": "code",
      "source": [
        "f3_coef = 0\n",
        "freq = charpos[:, :-1] / np.sum(charpos[:, 0])\n",
        "freq = np.sum(freq, axis=1)\n",
        "for p in freq:\n",
        "    f3_coef -= p * np.log2(p)\n",
        "f3_coef"
      ],
      "metadata": {
        "colab": {
          "base_uri": "https://localhost:8080/"
        },
        "id": "GP5xzi8FaGOi",
        "outputId": "03be9097-bbcb-459d-833e-6a21747df300"
      },
      "execution_count": 15,
      "outputs": [
        {
          "output_type": "execute_result",
          "data": {
            "text/plain": [
              "10.027307336098337"
            ]
          },
          "metadata": {},
          "execution_count": 15
        }
      ]
    },
    {
      "cell_type": "code",
      "source": [
        "f4_coef = 0\n",
        "freq = charcombo / np.sum(charcombo)\n",
        "freq = freq.reshape(-1, 1)\n",
        "for p in freq:\n",
        "    if p > 0.:\n",
        "        f4_coef -= p * np.log2(p)\n",
        "f4_coef = f4_coef[0]\n",
        "f4_coef"
      ],
      "metadata": {
        "colab": {
          "base_uri": "https://localhost:8080/"
        },
        "id": "lC9feTXthQ1F",
        "outputId": "4e4fac8e-f81d-4beb-a3f5-b47c4e8cd784"
      },
      "execution_count": 16,
      "outputs": [
        {
          "output_type": "execute_result",
          "data": {
            "text/plain": [
              "7.828576791300392"
            ]
          },
          "metadata": {},
          "execution_count": 16
        }
      ]
    },
    {
      "cell_type": "code",
      "source": [
        "def calculate_score(w):\n",
        "    f = getfeature(w)\n",
        "    return f[0] * f1_coef + f[1] * f2_coef + f[2] * f3_coef + f[3] * f4_coef"
      ],
      "metadata": {
        "id": "wHJI54y7hU_1"
      },
      "execution_count": 17,
      "outputs": []
    },
    {
      "cell_type": "code",
      "source": [
        "words_score = {}\n",
        "for word in words:\n",
        "    score = calculate_score(word)\n",
        "    words_score[word] = score\n",
        "    #print(f\"{word}: {score}\")"
      ],
      "metadata": {
        "id": "cmgUjtuIEDsv"
      },
      "execution_count": 54,
      "outputs": []
    },
    {
      "cell_type": "code",
      "source": [
        "scoreList = []\n",
        "for i in words_score:\n",
        "    scoreList.append(words_score[i])\n",
        "len(scoreList)"
      ],
      "metadata": {
        "colab": {
          "base_uri": "https://localhost:8080/"
        },
        "id": "Fcj4CBBU93dV",
        "outputId": "09a77b73-8986-41fd-a5fb-d37001bf66a9"
      },
      "execution_count": 30,
      "outputs": [
        {
          "output_type": "execute_result",
          "data": {
            "text/plain": [
              "359"
            ]
          },
          "metadata": {},
          "execution_count": 30
        }
      ]
    },
    {
      "cell_type": "code",
      "source": [
        "words_score_sorted = sorted(words_score.items(), key=lambda x: x[1], reverse=True)\n",
        "#words_score_sorted"
      ],
      "metadata": {
        "id": "wxoUJ_Qa9OYJ"
      },
      "execution_count": 55,
      "outputs": []
    },
    {
      "cell_type": "code",
      "source": [
        "from sklearn import svm\n",
        "X = featureList\n",
        "y = df2[\"Average Score\"]\n",
        "regr = svm.SVR()\n",
        "regr.fit(X, y)"
      ],
      "metadata": {
        "id": "DoyfJgQN3ocb",
        "colab": {
          "base_uri": "https://localhost:8080/"
        },
        "outputId": "b83f59e6-0857-4251-efa3-0452585342f7"
      },
      "execution_count": 51,
      "outputs": [
        {
          "output_type": "execute_result",
          "data": {
            "text/plain": [
              "SVR()"
            ]
          },
          "metadata": {},
          "execution_count": 51
        }
      ]
    },
    {
      "cell_type": "code",
      "source": [
        "#regr.predict(np.array(getfeature('eerie')))\n",
        "input = np.array(getfeature('condo')).reshape(1,-1)\n",
        "regr.predict(input)[0]"
      ],
      "metadata": {
        "colab": {
          "base_uri": "https://localhost:8080/"
        },
        "id": "rjfe2fHF-ZuG",
        "outputId": "2c4f0ce7-08ca-410f-d8af-806cf5e68c4c"
      },
      "execution_count": 59,
      "outputs": [
        {
          "output_type": "execute_result",
          "data": {
            "text/plain": [
              "4.478035657804078"
            ]
          },
          "metadata": {},
          "execution_count": 59
        }
      ]
    },
    {
      "cell_type": "code",
      "source": [
        "regr.score(X,y)"
      ],
      "metadata": {
        "colab": {
          "base_uri": "https://localhost:8080/"
        },
        "id": "cugJ72e9Bhq0",
        "outputId": "2790582a-4c30-49c5-e379-deeae4533392"
      },
      "execution_count": 58,
      "outputs": [
        {
          "output_type": "execute_result",
          "data": {
            "text/plain": [
              "0.2474931940252033"
            ]
          },
          "metadata": {},
          "execution_count": 58
        }
      ]
    },
    {
      "cell_type": "code",
      "source": [
        "predicted_value = []\n",
        "for word in words:\n",
        "    predicted_value.append(regr.predict(np.array(getfeature(word)).reshape(1,-1))[0])"
      ],
      "metadata": {
        "id": "_jCLbmu3DnSC"
      },
      "execution_count": 61,
      "outputs": []
    },
    {
      "cell_type": "code",
      "source": [
        "diff_lst = predicted_value - y\n",
        "#for i in diff_lst:\n",
        "  #print(i)\n",
        "np.corrcoef(predicted_value,scoreList)"
      ],
      "metadata": {
        "colab": {
          "base_uri": "https://localhost:8080/"
        },
        "id": "o-xRbAwfEZFL",
        "outputId": "cfb8d2c4-a1a4-45c0-d37b-fa42d5f211d0"
      },
      "execution_count": 67,
      "outputs": [
        {
          "output_type": "execute_result",
          "data": {
            "text/plain": [
              "array([[ 1.        , -0.58244225],\n",
              "       [-0.58244225,  1.        ]])"
            ]
          },
          "metadata": {},
          "execution_count": 67
        }
      ]
    },
    {
      "cell_type": "code",
      "source": [
        "#分析词性\n",
        "nltk.download('punkt')\n",
        "nltk.download('averaged_perceptron_tagger')\n",
        "words = nltk.word_tokenize(file.read())"
      ],
      "metadata": {
        "colab": {
          "base_uri": "https://localhost:8080/"
        },
        "id": "OyCy5IR2HE8C",
        "outputId": "42628c62-b79e-4072-f65f-1c9679601125"
      },
      "execution_count": 76,
      "outputs": [
        {
          "output_type": "stream",
          "name": "stderr",
          "text": [
            "[nltk_data] Downloading package punkt to /root/nltk_data...\n",
            "[nltk_data]   Package punkt is already up-to-date!\n",
            "[nltk_data] Downloading package averaged_perceptron_tagger to\n",
            "[nltk_data]     /root/nltk_data...\n",
            "[nltk_data]   Package averaged_perceptron_tagger is already up-to-\n",
            "[nltk_data]       date!\n"
          ]
        }
      ]
    },
    {
      "cell_type": "code",
      "source": [
        "print(nltk.pos_tag(words))"
      ],
      "metadata": {
        "colab": {
          "base_uri": "https://localhost:8080/"
        },
        "id": "kb7pWlyuHo1d",
        "outputId": "ef2f8fc4-14fc-437e-fc8e-850f93bb831a"
      },
      "execution_count": 81,
      "outputs": [
        {
          "output_type": "stream",
          "name": "stdout",
          "text": [
            "[('manly', 'RB'), ('molar', 'JJ'), ('havoc', 'NN'), ('impel', 'NN'), ('condo', 'NN'), ('judge', 'NN'), ('extra', 'JJ'), ('poise', 'NN'), ('aorta', 'NN'), ('excel', 'NN'), ('lunar', 'JJ'), ('third', 'JJ'), ('slate', 'NN'), ('taper', 'IN'), ('chord', 'NN'), ('probe', 'NN'), ('rival', 'JJ'), ('usual', 'JJ'), ('spoke', 'VBD'), ('apply', 'RB'), ('naive', 'JJ'), ('knock', 'NN'), ('braid', 'NN'), ('infer', 'NN'), ('joust', 'NN'), ('amber', 'VB'), ('woken', 'VBN'), ('adore', 'RB'), ('torso', 'JJ'), ('chafe', 'NN'), ('eject', 'NN'), ('study', 'NN'), ('undue', 'JJ'), ('tepid', 'NNS'), ('happy', 'JJ'), ('clean', 'JJ'), ('itchy', 'NN'), ('feast', 'NN'), ('drive', 'NN'), ('prime', 'JJ'), ('axiom', 'NN'), ('brave', 'VBP'), ('avert', 'JJ'), ('glyph', 'NN'), ('there', 'EX'), ('baker', 'NN'), ('snarl', 'NN'), ('maple', 'NN'), ('inane', 'NN'), ('valet', 'NN'), ('medal', 'NNP'), ('unite', 'JJ'), ('rainy', 'NN'), ('spell', 'NN'), ('begin', 'VB'), ('stale', 'JJ'), ('dream', 'NN'), ('photo', 'NN'), ('aloud', 'NN'), ('inept', 'IN'), ('piney', 'NN'), ('aptly', 'RB'), ('waltz', 'VBZ'), ('libel', 'JJ'), ('sneak', 'NN'), ('carry', 'NN'), ('flout', 'NN'), ('foggy', 'JJ'), ('fault', 'NN'), ('mummy', 'NN'), ('spiel', 'NN'), ('grove', 'VB'), ('denim', 'NN'), ('quirk', 'NNS'), ('exist', 'VBP'), ('stein', 'JJ'), ('spade', 'JJ'), ('catch', 'NN'), ('floor', 'NN'), ('equal', 'JJ'), ('ionic', 'NN'), ('valid', 'JJ'), ('enjoy', 'NN'), ('howdy', 'NN'), ('vigor', 'NN'), ('dandy', 'JJ'), ('sloth', 'CC'), ('marxh', 'JJ'), ('bough', 'IN'), ('sting', 'VBG'), ('twine', 'NN'), ('leave', 'VBP'), ('scorn', 'VBN'), ('scald', 'JJ'), ('usurp', 'JJ'), ('soggy', 'JJ'), ('brisk', 'JJ'), ('admit', 'NN'), ('grate', 'NN'), ('glory', 'NN'), ('saint', 'NN'), ('recap', 'NN'), ('alike', 'IN'), ('trice', 'NN'), ('stick', 'NN'), ('chute', 'NN'), ('parer', 'NN'), ('doubt', 'NN'), ('thyme', 'NN'), ('alpha', 'NN'), ('booze', 'NN'), ('tibia', 'NN'), ('lofty', 'JJ'), ('theme', 'NN'), ('class', 'NN'), ('leery', 'NN'), ('taunt', 'NN'), ('whoop', 'NN'), ('inter', 'NN'), ('gully', 'RB'), ('charm', 'JJ'), ('fungi', 'NNS'), ('prize', 'VBP'), ('onset', 'JJ'), ('chief', 'JJ'), ('gauze', 'NN'), ('ruder', 'NN'), ('irony', 'NN'), ('clown', 'JJ'), ('needy', 'JJ'), ('woven', 'VBN'), ('merit', 'NN'), ('waste', 'NN'), ('treat', 'NN'), ('shrug', 'NN'), ('twang', 'NN'), ('twice', 'RB'), ('gruel', 'JJ'), ('poker', 'NN'), ('khaki', 'NN'), ('hunky', 'NN'), ('label', 'JJ'), ('glean', 'NN'), ('cling', 'VBG'), ('patty', 'JJ'), ('unfit', 'JJ'), ('smear', 'JJ'), ('alien', 'NN'), ('buggy', 'NN'), ('rhyme', 'NN'), ('youth', 'NN'), ('coyly', 'JJ'), ('quart', 'NN'), ('cramp', 'NN'), ('bluff', 'NN'), ('upset', 'JJ'), ('stomp', 'NN'), ('motto', 'NN'), ('cinch', 'NN'), ('elope', 'VBP'), ('power', 'NN'), ('midge', 'NN'), ('tryst', 'NN'), ('aphid', 'IN'), ('trite', 'JJ'), ('angry', 'JJ'), ('flock', 'NN'), ('wacky', 'JJ'), ('roomy', 'NN'), ('wedge', 'NN'), ('liver', 'NN'), ('bland', 'NN'), ('night', 'NN'), ('madam', 'NN'), ('berth', 'NN'), ('stead', 'JJ'), ('voice', 'NN'), ('agape', 'NN'), ('fluff', 'JJ'), ('field', 'NN'), ('sever', 'NN'), ('lilac', 'NN'), ('egret', 'FW'), ('pinto', 'NN'), ('hutch', 'NN'), ('gawky', 'NN'), ('droll', 'NN'), ('retro', 'NN'), ('rusty', 'JJ'), ('beady', 'JJ'), ('smite', 'NN'), ('brink', 'NN'), ('awful', 'JJ'), ('gloat', 'NN'), ('input', 'NN'), ('loser', 'RBR'), ('cacao', 'NN'), ('blown', 'VBN'), ('apron', 'RB'), ('primo', 'JJ'), ('atone', 'NN'), ('donor', 'NN'), ('float', 'NN'), ('goose', 'VBD'), ('piety', 'NN'), ('girth', 'NN'), ('trait', 'NN'), ('flood', 'NN'), ('gloom', 'NN'), ('depth', 'NN'), ('froth', 'CC'), ('peach', 'NN'), ('showy', 'NN'), ('creak', 'NN'), ('manor', 'NN'), ('atoll', 'NN'), ('bayou', 'NN'), ('crept', 'VBD'), ('tiara', 'JJ'), ('asset', 'NN'), ('vouch', 'JJ'), ('album', 'NN'), ('hinge', 'NN'), ('money', 'NN'), ('scrap', 'NN'), ('gamer', 'NN'), ('glass', 'NN'), ('scour', 'NN'), ('being', 'VBG'), ('delve', 'JJ'), ('yield', 'NN'), ('metal', 'NN'), ('tipsy', 'NN'), ('slung', 'NN'), ('farce', 'NN'), ('gecko', 'NN'), ('shine', 'NN'), ('canny', 'NN'), ('midst', 'NN'), ('badge', 'NN'), ('homer', 'NN'), ('train', 'NN'), ('hairy', 'JJ'), ('story', 'NN'), ('forgo', 'NN'), ('larva', 'NN'), ('trash', 'NN'), ('zesty', 'NNP'), ('shown', 'VBN'), ('heist', 'NN'), ('askew', 'NN'), ('inert', 'JJ'), ('olive', 'JJ'), ('plant', 'NN'), ('oxide', 'IN'), ('cargo', 'NN'), ('foyer', 'NN'), ('flair', 'NN'), ('ample', 'JJ'), ('cheek', 'NN'), ('shame', 'NN'), ('mince', 'NN'), ('chunk', 'NN'), ('royal', 'NN'), ('squad', 'JJ'), ('black', 'JJ'), ('stair', 'NN'), ('scare', 'JJ'), ('foray', 'JJ'), ('comma', 'NN'), ('natal', 'JJ'), ('shawl', 'NN'), ('fewer', 'JJR'), ('trope', 'NN'), ('snout', 'NN'), ('lowly', 'RB'), ('stove', 'VB'), ('shall', 'MD'), ('found', 'VB'), ('nymph', 'RB'), ('epoxy', 'JJ'), ('depot', 'NN'), ('chest', 'JJS'), ('purge', 'NN'), ('slosh', 'VBP'), ('their', 'PRP$'), ('renew', 'NN'), ('allow', 'IN'), ('saute', 'JJ'), ('movie', 'NN'), ('cater', 'NN'), ('tease', 'NN'), ('smelt', 'VBD'), ('focus', 'JJ'), ('today', 'NN'), ('watch', 'VBP'), ('lapse', 'NN'), ('month', 'NN'), ('sweet', 'JJ'), ('hoard', 'NN'), ('cloth', 'DT'), ('brine', 'NN'), ('ahead', 'RB'), ('mourn', 'VBP'), ('nasty', 'JJ'), ('rupee', 'NN'), ('choke', 'VBD'), ('chant', 'JJ'), ('spill', 'NN'), ('vivid', 'FW'), ('bloke', 'FW'), ('trove', 'VBP'), ('thorn', 'IN'), ('other', 'JJ'), ('tacit', 'NN'), ('swill', 'NN'), ('dodge', 'VBP'), ('shake', 'VB'), ('caulk', 'JJ'), ('aroma', 'NN'), ('cynic', 'JJ'), ('robin', 'NN'), ('ultra', 'JJ'), ('ulcer', 'NN'), ('pause', 'NN'), ('humor', 'NN'), ('frame', 'NN'), ('elder', 'NN'), ('skill', 'NN'), ('aloft', 'RB'), ('pleat', 'JJ'), ('shard', 'JJ'), ('moist', 'NN'), ('those', 'DT'), ('light', 'JJ'), ('wrung', 'NN'), ('could', 'MD'), ('perky', 'VB'), ('mount', 'NNP'), ('whack', 'NN'), ('sugar', 'NN'), ('knoll', 'NN'), ('crimp', 'NN'), ('wince', 'NN'), ('prick', 'NN'), ('robot', 'NN'), ('point', 'NN'), ('proxy', 'NN'), ('shire', 'NN'), ('solar', 'JJ'), ('panic', 'NN'), ('tangy', 'NN'), ('abbey', 'NN'), ('favor', 'NN'), ('drink', 'VB'), ('query', 'JJ'), ('gorge', 'NN'), ('crank', 'NN'), ('slump', 'NN')]\n"
          ]
        }
      ]
    },
    {
      "cell_type": "code",
      "source": [
        "from pandas.core.indexes import category\n",
        "category = []\n",
        "for i in nltk.pos_tag(words):\n",
        "    category.append(i[1])"
      ],
      "metadata": {
        "id": "uSAQs_TdIOaW"
      },
      "execution_count": 83,
      "outputs": []
    },
    {
      "cell_type": "code",
      "source": [
        "def syllable_count(word):\n",
        "    word = word.lower()\n",
        "    count = 0\n",
        "    vowels = \"aeiouy\"\n",
        "    if word[0] in vowels:\n",
        "        count += 1\n",
        "    for index in range(1, len(word)):\n",
        "        if word[index] in vowels and word[index - 1] not in vowels:\n",
        "            count += 1\n",
        "    if word.endswith(\"e\"):\n",
        "        count -= 1\n",
        "    if count == 0:\n",
        "        count += 1\n",
        "    return count\n",
        "\n",
        "syllable_lst = []\n",
        "for i in words:\n",
        "    syllable_lst.append(syllable_count(i))\n",
        "len(syllable_lst)\n"
      ],
      "metadata": {
        "colab": {
          "base_uri": "https://localhost:8080/"
        },
        "id": "7rBHH6x8IuJs",
        "outputId": "f3c32e9f-e0cc-40c6-d7d5-00add125fe1c"
      },
      "execution_count": 85,
      "outputs": [
        {
          "output_type": "execute_result",
          "data": {
            "text/plain": [
              "359"
            ]
          },
          "metadata": {},
          "execution_count": 85
        }
      ]
    },
    {
      "cell_type": "code",
      "source": [
        "# load the time series data into a pandas DataFrame\n",
        "#data = pd.read_csv('time_series_data.csv', index_col=0, parse_dates=True)\n",
        "# define the function to perform the ADF test\n",
        "def adf_test(timeseries):\n",
        "    \"\"\"\n",
        "    Perform Augmented Dickey-Fuller test on a time series\n",
        "    \"\"\"\n",
        "    # calculate rolling statistics\n",
        "    rolmean = timeseries.rolling(window=12).mean()\n",
        "    rolstd = timeseries.rolling(window=12).std()\n",
        "\n",
        "    # perform the ADF test\n",
        "    adf_result = adfuller(timeseries, autolag='AIC')\n",
        "    print(f'ADF Statistic: {adf_result[0]}')\n",
        "    print(f'p-value: {adf_result[1]}')\n",
        "    print('Critical Values:')\n",
        "    for key, value in adf_result[4].items():\n",
        "        print(f'{key}: {value}')\n",
        "\n",
        "    # plot the rolling statistics\n",
        "    plt.plot(timeseries, color='blue', label='Original')\n",
        "    plt.plot(rolmean, color='red', label='Rolling Mean')\n",
        "    plt.plot(rolstd, color='black', label='Rolling Std')\n",
        "    plt.legend(loc='best')\n",
        "    plt.title('Rolling Mean & Standard Deviation')\n",
        "    plt.show()\n",
        "\n",
        "# call the function to perform the ADF test on the time series data\n",
        "#df[\"Number of  reported results\"]\n",
        "#rev_col = df[\"Number of  reported results\"].values.tolist().reverse()\n",
        "rev_col = df[\"Number of  reported results\"].iloc[::-1].reset_index()\n",
        "rev_col = rev_col.drop(columns=['index'])\n",
        "rev_col\n",
        "#print(rev_col)\n",
        "#adf_test(rev_col)"
      ],
      "metadata": {
        "colab": {
          "base_uri": "https://localhost:8080/",
          "height": 424
        },
        "id": "CJsdlWetW5Xg",
        "outputId": "44b10bd5-1fd3-4c87-b165-65ee01a564b1"
      },
      "execution_count": 123,
      "outputs": [
        {
          "output_type": "execute_result",
          "data": {
            "text/plain": [
              "     Number of  reported results\n",
              "0                          80630\n",
              "1                         101503\n",
              "2                          91477\n",
              "3                         107134\n",
              "4                         153880\n",
              "..                           ...\n",
              "354                        20879\n",
              "355                        20160\n",
              "356                        20001\n",
              "357                        21204\n",
              "358                        20380\n",
              "\n",
              "[359 rows x 1 columns]"
            ],
            "text/html": [
              "\n",
              "  <div id=\"df-73e85d9c-0087-41cb-99db-f7689a31c3ec\">\n",
              "    <div class=\"colab-df-container\">\n",
              "      <div>\n",
              "<style scoped>\n",
              "    .dataframe tbody tr th:only-of-type {\n",
              "        vertical-align: middle;\n",
              "    }\n",
              "\n",
              "    .dataframe tbody tr th {\n",
              "        vertical-align: top;\n",
              "    }\n",
              "\n",
              "    .dataframe thead th {\n",
              "        text-align: right;\n",
              "    }\n",
              "</style>\n",
              "<table border=\"1\" class=\"dataframe\">\n",
              "  <thead>\n",
              "    <tr style=\"text-align: right;\">\n",
              "      <th></th>\n",
              "      <th>Number of  reported results</th>\n",
              "    </tr>\n",
              "  </thead>\n",
              "  <tbody>\n",
              "    <tr>\n",
              "      <th>0</th>\n",
              "      <td>80630</td>\n",
              "    </tr>\n",
              "    <tr>\n",
              "      <th>1</th>\n",
              "      <td>101503</td>\n",
              "    </tr>\n",
              "    <tr>\n",
              "      <th>2</th>\n",
              "      <td>91477</td>\n",
              "    </tr>\n",
              "    <tr>\n",
              "      <th>3</th>\n",
              "      <td>107134</td>\n",
              "    </tr>\n",
              "    <tr>\n",
              "      <th>4</th>\n",
              "      <td>153880</td>\n",
              "    </tr>\n",
              "    <tr>\n",
              "      <th>...</th>\n",
              "      <td>...</td>\n",
              "    </tr>\n",
              "    <tr>\n",
              "      <th>354</th>\n",
              "      <td>20879</td>\n",
              "    </tr>\n",
              "    <tr>\n",
              "      <th>355</th>\n",
              "      <td>20160</td>\n",
              "    </tr>\n",
              "    <tr>\n",
              "      <th>356</th>\n",
              "      <td>20001</td>\n",
              "    </tr>\n",
              "    <tr>\n",
              "      <th>357</th>\n",
              "      <td>21204</td>\n",
              "    </tr>\n",
              "    <tr>\n",
              "      <th>358</th>\n",
              "      <td>20380</td>\n",
              "    </tr>\n",
              "  </tbody>\n",
              "</table>\n",
              "<p>359 rows × 1 columns</p>\n",
              "</div>\n",
              "      <button class=\"colab-df-convert\" onclick=\"convertToInteractive('df-73e85d9c-0087-41cb-99db-f7689a31c3ec')\"\n",
              "              title=\"Convert this dataframe to an interactive table.\"\n",
              "              style=\"display:none;\">\n",
              "        \n",
              "  <svg xmlns=\"http://www.w3.org/2000/svg\" height=\"24px\"viewBox=\"0 0 24 24\"\n",
              "       width=\"24px\">\n",
              "    <path d=\"M0 0h24v24H0V0z\" fill=\"none\"/>\n",
              "    <path d=\"M18.56 5.44l.94 2.06.94-2.06 2.06-.94-2.06-.94-.94-2.06-.94 2.06-2.06.94zm-11 1L8.5 8.5l.94-2.06 2.06-.94-2.06-.94L8.5 2.5l-.94 2.06-2.06.94zm10 10l.94 2.06.94-2.06 2.06-.94-2.06-.94-.94-2.06-.94 2.06-2.06.94z\"/><path d=\"M17.41 7.96l-1.37-1.37c-.4-.4-.92-.59-1.43-.59-.52 0-1.04.2-1.43.59L10.3 9.45l-7.72 7.72c-.78.78-.78 2.05 0 2.83L4 21.41c.39.39.9.59 1.41.59.51 0 1.02-.2 1.41-.59l7.78-7.78 2.81-2.81c.8-.78.8-2.07 0-2.86zM5.41 20L4 18.59l7.72-7.72 1.47 1.35L5.41 20z\"/>\n",
              "  </svg>\n",
              "      </button>\n",
              "      \n",
              "  <style>\n",
              "    .colab-df-container {\n",
              "      display:flex;\n",
              "      flex-wrap:wrap;\n",
              "      gap: 12px;\n",
              "    }\n",
              "\n",
              "    .colab-df-convert {\n",
              "      background-color: #E8F0FE;\n",
              "      border: none;\n",
              "      border-radius: 50%;\n",
              "      cursor: pointer;\n",
              "      display: none;\n",
              "      fill: #1967D2;\n",
              "      height: 32px;\n",
              "      padding: 0 0 0 0;\n",
              "      width: 32px;\n",
              "    }\n",
              "\n",
              "    .colab-df-convert:hover {\n",
              "      background-color: #E2EBFA;\n",
              "      box-shadow: 0px 1px 2px rgba(60, 64, 67, 0.3), 0px 1px 3px 1px rgba(60, 64, 67, 0.15);\n",
              "      fill: #174EA6;\n",
              "    }\n",
              "\n",
              "    [theme=dark] .colab-df-convert {\n",
              "      background-color: #3B4455;\n",
              "      fill: #D2E3FC;\n",
              "    }\n",
              "\n",
              "    [theme=dark] .colab-df-convert:hover {\n",
              "      background-color: #434B5C;\n",
              "      box-shadow: 0px 1px 3px 1px rgba(0, 0, 0, 0.15);\n",
              "      filter: drop-shadow(0px 1px 2px rgba(0, 0, 0, 0.3));\n",
              "      fill: #FFFFFF;\n",
              "    }\n",
              "  </style>\n",
              "\n",
              "      <script>\n",
              "        const buttonEl =\n",
              "          document.querySelector('#df-73e85d9c-0087-41cb-99db-f7689a31c3ec button.colab-df-convert');\n",
              "        buttonEl.style.display =\n",
              "          google.colab.kernel.accessAllowed ? 'block' : 'none';\n",
              "\n",
              "        async function convertToInteractive(key) {\n",
              "          const element = document.querySelector('#df-73e85d9c-0087-41cb-99db-f7689a31c3ec');\n",
              "          const dataTable =\n",
              "            await google.colab.kernel.invokeFunction('convertToInteractive',\n",
              "                                                     [key], {});\n",
              "          if (!dataTable) return;\n",
              "\n",
              "          const docLinkHtml = 'Like what you see? Visit the ' +\n",
              "            '<a target=\"_blank\" href=https://colab.research.google.com/notebooks/data_table.ipynb>data table notebook</a>'\n",
              "            + ' to learn more about interactive tables.';\n",
              "          element.innerHTML = '';\n",
              "          dataTable['output_type'] = 'display_data';\n",
              "          await google.colab.output.renderOutput(dataTable, element);\n",
              "          const docLink = document.createElement('div');\n",
              "          docLink.innerHTML = docLinkHtml;\n",
              "          element.appendChild(docLink);\n",
              "        }\n",
              "      </script>\n",
              "    </div>\n",
              "  </div>\n",
              "  "
            ]
          },
          "metadata": {},
          "execution_count": 123
        }
      ]
    },
    {
      "cell_type": "code",
      "source": [
        "data"
      ],
      "metadata": {
        "colab": {
          "base_uri": "https://localhost:8080/"
        },
        "id": "9VQdg4nay2m5",
        "outputId": "5e6309c9-d415-4088-9771-41345d0d96f5"
      },
      "execution_count": 158,
      "outputs": [
        {
          "output_type": "execute_result",
          "data": {
            "text/plain": [
              "<map at 0x7f3529f50220>"
            ]
          },
          "metadata": {},
          "execution_count": 158
        }
      ]
    },
    {
      "cell_type": "code",
      "source": [
        "data = np.log(rev_col)\n",
        "# fit an ARIMA model to the time series data\n",
        "p_list = range(1, 6)\n",
        "q_list = range(1, 6)\n",
        "d_list = range(2)\n",
        "\n",
        "for p in p_list:\n",
        "  for q in q_list:\n",
        "    for d in d_list:\n",
        "      print(f\"{p} {d} {q}\")\n",
        "\n",
        "      model = ARIMA(data, order=(1,1,1))\n",
        "      results = model.fit()\n",
        "\n",
        "      # print a summary of the model results\n",
        "      print(results.summary())\n",
        "\n",
        "      # plot the residuals of the model\n",
        "      residuals = pd.DataFrame(results.resid)\n",
        "      residuals.plot()\n",
        "      plt.show()\n",
        "\n",
        "      # plot the actual values of the time series data compared to the predicted values from the model\n",
        "      fig, ax = plt.subplots(figsize=(6,3))\n",
        "      ax.plot(data, label='Actual')\n",
        "      ax.plot(results.predict(start=data.index[0], end=data.index[-1]), label='Predicted')\n",
        "      ax.legend(loc='upper left')\n",
        "      plt.show()"
      ],
      "metadata": {
        "id": "ElTpgelbX1bT"
      },
      "execution_count": null,
      "outputs": []
    },
    {
      "cell_type": "code",
      "source": [
        "lst = []\n",
        "\n",
        "#forecast, std_err, conf_int = results.get_forecast(steps=1, alpha=0.05)\n",
        "obj = results.get_forecast(steps=1, alpha=0.05)\n",
        "obj.se_mean\n",
        "#print(lst)\n",
        "#print(f'Forecast: {forecast[0]}')\n",
        "#print(f'Standard error: {std_err[0]}')\n",
        "#print(f'95% Prediction Interval: {conf_int[0]} - {conf_int[1]}')"
      ],
      "metadata": {
        "colab": {
          "base_uri": "https://localhost:8080/"
        },
        "id": "RdtjLLv9cxEs",
        "outputId": "5a9ebfc5-ff81-4fa2-9595-f5ba3038cace"
      },
      "execution_count": 156,
      "outputs": [
        {
          "output_type": "execute_result",
          "data": {
            "text/plain": [
              "359    11710.148084\n",
              "dtype: float64"
            ]
          },
          "metadata": {},
          "execution_count": 156
        }
      ]
    }
  ],
  "metadata": {
    "colab": {
      "provenance": []
    },
    "kernelspec": {
      "display_name": "MCM",
      "language": "python",
      "name": "python3"
    },
    "language_info": {
      "codemirror_mode": {
        "name": "ipython",
        "version": 3
      },
      "file_extension": ".py",
      "mimetype": "text/x-python",
      "name": "python",
      "nbconvert_exporter": "python",
      "pygments_lexer": "ipython3",
      "version": "3.9.16"
    },
    "vscode": {
      "interpreter": {
        "hash": "70aeaa0bd624b5c35454921e6531cc9148aab9ca9deafc1d5cb72d8199fcb847"
      }
    }
  },
  "nbformat": 4,
  "nbformat_minor": 0
}